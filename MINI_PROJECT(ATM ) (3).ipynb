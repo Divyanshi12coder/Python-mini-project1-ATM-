{
 "cells": [
  {
   "cell_type": "code",
   "execution_count": null,
   "id": "2bc4433d-e1c6-40d2-948c-77d2d6e63494",
   "metadata": {},
   "outputs": [],
   "source": [
    "user=\"admin\"\n",
    "password=\"admin@123\"\n",
    "mob=\"8434411469\"\n",
    "u_id=input(\"Enter UserId/Mobile No\")\n",
    "pas=input(\"Enter Password\")\n",
    "if u_id==user or u_id==mob:\n",
    "    if pas==password:\n",
    "        print(\"Login Done\")\n",
    "    else:\n",
    "        print(\"invalid password\")\n",
    "else:\n",
    "    print(\"Invalid UserID/Mobile No\")\n"
   ]
  },
  {
   "cell_type": "code",
   "execution_count": null,
   "id": "081bceaf-1d91-4fc8-9ee7-e3699877688c",
   "metadata": {},
   "outputs": [],
   "source": [
    "n=int(input(\"Enter number:\"))\n",
    "if n>0:\n",
    "    if n%2==0:\n",
    "        print(\"Even\")\n",
    "    else:\n",
    "        print(\"odd\")\n",
    "else:\n",
    "    print(\"No is Negative\")"
   ]
  },
  {
   "cell_type": "code",
   "execution_count": null,
   "id": "9ff50b13-5c82-413b-a75f-7d87c47519c8",
   "metadata": {},
   "outputs": [],
   "source": [
    "# LOOP--\n"
   ]
  },
  {
   "cell_type": "code",
   "execution_count": null,
   "id": "b4b9984b-abf2-427e-8e4d-b62915f612a7",
   "metadata": {},
   "outputs": [],
   "source": [
    "print(5*1)\n",
    "print(5*2)\n",
    "print(5*3)\n",
    "print(5*4)\n",
    "print(5*5)\n",
    "print(5*6)\n",
    "print(5*7)\n",
    "print(5*8)\n",
    "print(5*9)\n",
    "print(5*10)\n"
   ]
  },
  {
   "cell_type": "code",
   "execution_count": null,
   "id": "00c44f22-a79c-4082-83b0-c1db5d6d6d7d",
   "metadata": {},
   "outputs": [],
   "source": [
    "# syntax----\n",
    "while condition:\n",
    "    logic\n",
    "while True:\n",
    "    logic\n",
    "while False:\n",
    "    logic"
   ]
  },
  {
   "cell_type": "code",
   "execution_count": null,
   "id": "146b72e2-78e8-4eb0-82bb-1a3cee19481a",
   "metadata": {},
   "outputs": [],
   "source": [
    "print(10<10)"
   ]
  },
  {
   "cell_type": "code",
   "execution_count": null,
   "id": "b624c5ef-4279-4c7a-a8e4-18d5b276675b",
   "metadata": {},
   "outputs": [],
   "source": [
    "i=1\n",
    "while i<=10:\n",
    "    print(5*i)\n",
    "    i+=1  #i=i+1\n",
    "    "
   ]
  },
  {
   "cell_type": "code",
   "execution_count": null,
   "id": "9f390989-f35c-451e-ae9e-24e4dd443e2a",
   "metadata": {},
   "outputs": [],
   "source": [
    "while False:\n",
    "    print(\"hello\")"
   ]
  },
  {
   "cell_type": "code",
   "execution_count": null,
   "id": "a849f1d2-d820-4491-adc1-e9ce89968206",
   "metadata": {},
   "outputs": [],
   "source": [
    "# Q.Find the sum of all natural no between 1 to 100.\n",
    "sum=0\n",
    "i=1\n",
    "while i<=100:\n",
    "    sum+=i # sum=sum+i\n",
    "    i+=1\n",
    "print(\"Sum of all naturan no bet 1to100 is\",sum)"
   ]
  },
  {
   "cell_type": "code",
   "execution_count": null,
   "id": "78bfff85-efea-449d-9ae9-380dc83ce331",
   "metadata": {},
   "outputs": [],
   "source": [
    "# Q.Find the sum of all even no between 1 to 100.\n",
    "sum_even=0\n",
    "sum_odd=0\n",
    "i=1\n",
    "while i<=100:\n",
    "    if i%2==0:\n",
    "        sum_even+=i\n",
    "    else:\n",
    "        sum_odd+=i\n",
    "    i+=1\n",
    "print(\"Sum of even\",sum_even)\n",
    "print(\"Sum of Odd\",sum_odd)"
   ]
  },
  {
   "cell_type": "code",
   "execution_count": null,
   "id": "ea710a5d-1c46-4765-8c1b-71e2e811683f",
   "metadata": {},
   "outputs": [],
   "source": [
    "while False:\n",
    "    print(\"hi\")\n",
    "else:\n",
    "    print(\"By\")"
   ]
  },
  {
   "cell_type": "code",
   "execution_count": null,
   "id": "51594c09-c3c1-4dc0-96c5-5cec82cd5eb6",
   "metadata": {},
   "outputs": [],
   "source": [
    "i=10\n",
    "while i<=15:\n",
    "    print(\"hi\")\n",
    "    i+=1\n",
    "    print(\"i ka value\",i)\n",
    "else:\n",
    "    print(\"by\")\n",
    "    print(\"loop khatam\")"
   ]
  },
  {
   "cell_type": "code",
   "execution_count": null,
   "id": "fc63db17-d900-4720-b75c-e99daddba803",
   "metadata": {},
   "outputs": [],
   "source": [
    "# ATM--\n",
    "name=\"Yash\"\n",
    "ac_no=5622\n",
    "pincode=\"1234\"\n",
    "bal=5000\n",
    "print(\"Welcome\",name)\n",
    "\n",
    "max_attempts = 3\n",
    "attempts = 0\n",
    "\n",
    "while attempts < max_attempts:\n",
    "    pin=input(\"Enter Your Pin Code:\")\n",
    "\n",
    "    if pin==pincode:\n",
    "        print(\"Select Option\\n\")\n",
    "        print(\"Press B for Check Balane\\n\")\n",
    "        print(\"Press W for Withdraw\\n\")\n",
    "        print(\"Press D for Deposit\\n\")\n",
    "        print(\"Press C for change pin\\n\")\n",
    "        print(\"Press N for Update Name\\n\")\n",
    "        print(\"press v for View Profile \\n\")\n",
    "        option=input(\"Enter Your Choice\")\n",
    "        \n",
    "        if option==\"B\":\n",
    "            print(\"Current Balance-\",bal)\n",
    "        \n",
    "        elif option==\"W\":\n",
    "            amount=int(input(\"Enter Withdrawal Amount\"))\n",
    "            if amount<=bal:\n",
    "                print(\"Withdraw Success\")\n",
    "                print(\"Updated Balance-\",bal=bal-amount)\n",
    "            else:\n",
    "                print(\"Insufficient Balance\")\n",
    "        elif option==\"D\":\n",
    "            amount=int(input(\"Enter Deposit Amount\"))\n",
    "            print(\"Deposit Sucess\")\n",
    "            print(\"Updated Balance:\",bal=amount+bal)\n",
    "        elif option==\"C\":\n",
    "            pin=input(\"Enter Your Current Pin\")\n",
    "            if pin==pincode:\n",
    "                new_pin=input(\"Enter New Pin Code\")\n",
    "                pincode=new_pin\n",
    "                print(\"Pin Change Successfully\")\n",
    "            else:\n",
    "                print(\"invalid Current Pin Code\")\n",
    "        elif option==\"N\":\n",
    "            new_name=input(\"enter name:\")\n",
    "            name=new_name\n",
    "            print(\"Name updated Done\")\n",
    "        elif option == \"v\":\n",
    "            print(f\" Welcome {name}\")\n",
    "            print(f\"Your Ac No- {ac_no1}\")\n",
    "            print(f\"Your Current Balance - {bal}\")\n",
    "            print(f\"Thanks for using ATM\")\n",
    "                 \n",
    "        elif option==\"exit\":\n",
    "            print(\"Thanks for using ATM\")\n",
    "            break\n",
    "        else:\n",
    "            print(\"Enter Valid option\")\n",
    "    else: \n",
    "        attempts+= 1\n",
    "        print(\"Invalid Attempts\")\n",
    "else:\n",
    "    print(\"Three attempts done ,Your ATM is Blocked\")\n",
    "    print(\"By, Contact Your Branch\")\n",
    "    \n",
    "        \n",
    "        \n",
    "                \n",
    "        \n",
    "        \n",
    "                \n",
    "        "
   ]
  },
  {
   "cell_type": "code",
   "execution_count": 1,
   "id": "ac9dab8a-799d-44f4-881a-0a17cca041c3",
   "metadata": {},
   "outputs": [
    {
     "name": "stdout",
     "output_type": "stream",
     "text": [
      "Welcome Yash\n"
     ]
    },
    {
     "name": "stdin",
     "output_type": "stream",
     "text": [
      "Enter Your Pin Code: 1234\n"
     ]
    },
    {
     "name": "stdout",
     "output_type": "stream",
     "text": [
      "Select Option/n\n",
      "----------\n",
      "Press B for Check Balane\n",
      "Press W for Withdraw\n",
      "Press D for Deposit\n",
      "Press C for change pin\n",
      "Press N for Update Name\n",
      "press v for View Profile\n",
      "press exit for exit/n\n"
     ]
    },
    {
     "name": "stdin",
     "output_type": "stream",
     "text": [
      "Enter Your Choice W\n",
      "Enter Withdrawal Amount 1200\n"
     ]
    },
    {
     "name": "stdout",
     "output_type": "stream",
     "text": [
      "Withdraw Success\n",
      "Updated Balance- 3800\n",
      "Select Option/n\n",
      "----------\n",
      "Press B for Check Balane\n",
      "Press W for Withdraw\n",
      "Press D for Deposit\n",
      "Press C for change pin\n",
      "Press N for Update Name\n",
      "press v for View Profile\n",
      "press exit for exit/n\n"
     ]
    },
    {
     "name": "stdin",
     "output_type": "stream",
     "text": [
      "Enter Your Choice D\n",
      "Enter Deposit Amount 2000\n"
     ]
    },
    {
     "name": "stdout",
     "output_type": "stream",
     "text": [
      "Deposit Sucess\n",
      "Updated Balance: 5800\n",
      "Select Option/n\n",
      "----------\n",
      "Press B for Check Balane\n",
      "Press W for Withdraw\n",
      "Press D for Deposit\n",
      "Press C for change pin\n",
      "Press N for Update Name\n",
      "press v for View Profile\n",
      "press exit for exit/n\n"
     ]
    },
    {
     "name": "stdin",
     "output_type": "stream",
     "text": [
      "Enter Your Choice v\n"
     ]
    },
    {
     "name": "stdout",
     "output_type": "stream",
     "text": [
      " Welcome Yash\n",
      "Your Ac No- 5622\n",
      "Your Current Balance - 5800\n",
      "Thanks for using ATM\n",
      "Select Option/n\n",
      "----------\n",
      "Press B for Check Balane\n",
      "Press W for Withdraw\n",
      "Press D for Deposit\n",
      "Press C for change pin\n",
      "Press N for Update Name\n",
      "press v for View Profile\n",
      "press exit for exit/n\n"
     ]
    },
    {
     "name": "stdin",
     "output_type": "stream",
     "text": [
      "Enter Your Choice exit\n"
     ]
    },
    {
     "name": "stdout",
     "output_type": "stream",
     "text": [
      "Thanks for using ATM\n"
     ]
    }
   ],
   "source": [
    "# ATM--\n",
    "name=\"Yash\"\n",
    "ac_no=5622\n",
    "pincode=\"1234\"\n",
    "bal=5000\n",
    "print(\"Welcome\",name)\n",
    "\n",
    "pin=input(\"Enter Your Pin Code:\")\n",
    "while True:\n",
    "\n",
    "    if pin==pincode:\n",
    "        print(\"Select Option/n\")\n",
    "        print(\"----------\")\n",
    "        print(\"Press B for Check Balane\")\n",
    "        print(\"Press W for Withdraw\")\n",
    "        print(\"Press D for Deposit\")\n",
    "        print(\"Press C for change pin\")\n",
    "        print(\"Press N for Update Name\")\n",
    "        print(\"press v for View Profile\")\n",
    "        print(\"press exit for exit/n\")\n",
    "        option=input(\"Enter Your Choice\")\n",
    "        \n",
    "        if option==\"B\":\n",
    "            print(\"Current Balance-\",bal)\n",
    "        \n",
    "        elif option==\"W\":\n",
    "            amount=int(input(\"Enter Withdrawal Amount\"))\n",
    "            if amount<=bal:\n",
    "                print(\"Withdraw Success\")\n",
    "                bal=bal-amount #withdraw \n",
    "                print(\"Updated Balance-\",bal)\n",
    "            else:\n",
    "                print(\"Insufficient Balance\")\n",
    "        elif option==\"D\":\n",
    "            amt=int(input(\"Enter Deposit Amount\"))\n",
    "            print(\"Deposit Sucess\")\n",
    "            bal+=amt\n",
    "            print(\"Updated Balance:\",bal)\n",
    "        elif option==\"C\":\n",
    "            pin=input(\"Enter Your Current Pin\")\n",
    "            if pin==pincode:\n",
    "                new_pin=input(\"Enter New Pin Code\")\n",
    "                pincode=new_pin\n",
    "                print(\"Pin Change Successfully\")\n",
    "            else:\n",
    "                print(\"invalid Current Pin Code\")\n",
    "        elif option==\"N\":\n",
    "            new_name=input(\"enter name:\")\n",
    "            name=new_name\n",
    "            print(\"Name updated Done\")\n",
    "        elif option == \"v\":\n",
    "            print(f\" Welcome {name}\")\n",
    "            print(f\"Your Ac No- {ac_no}\")\n",
    "            print(f\"Your Current Balance - {bal}\")\n",
    "            print(f\"Thanks for using ATM\")\n",
    "                 \n",
    "        elif option==\"exit\":\n",
    "            print(\"Thanks for using ATM\")\n",
    "            break\n",
    "        else:\n",
    "            print(\"Enter Valid option\")\n",
    "   \n",
    "else:\n",
    "    print(\"Three attempts done ,Your ATM is Blocked\")\n",
    "    print(\"By, Contact Your Branch\")       \n",
    "        \n",
    "        \n",
    "        "
   ]
  },
  {
   "cell_type": "code",
   "execution_count": null,
   "id": "82fbd5cd-4f9a-4778-b3ae-f90bec94d8c0",
   "metadata": {},
   "outputs": [],
   "source": []
  }
 ],
 "metadata": {
  "kernelspec": {
   "display_name": "Python 3 (ipykernel)",
   "language": "python",
   "name": "python3"
  },
  "language_info": {
   "codemirror_mode": {
    "name": "ipython",
    "version": 3
   },
   "file_extension": ".py",
   "mimetype": "text/x-python",
   "name": "python",
   "nbconvert_exporter": "python",
   "pygments_lexer": "ipython3",
   "version": "3.12.4"
  }
 },
 "nbformat": 4,
 "nbformat_minor": 5
}
